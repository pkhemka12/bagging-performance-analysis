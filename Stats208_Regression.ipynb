{
  "nbformat": 4,
  "nbformat_minor": 0,
  "metadata": {
    "colab": {
      "provenance": []
    },
    "kernelspec": {
      "name": "python3",
      "display_name": "Python 3"
    },
    "language_info": {
      "name": "python"
    }
  },
  "cells": [
    {
      "cell_type": "code",
      "execution_count": 1,
      "metadata": {
        "id": "oUEtCNbOWgFF"
      },
      "outputs": [],
      "source": [
        "import numpy as np\n",
        "import pandas as pd\n",
        "\n",
        "from sklearn import tree\n",
        "from sklearn.metrics import mean_squared_error\n",
        "from sklearn.model_selection import train_test_split, GridSearchCV, RandomizedSearchCV"
      ]
    },
    {
      "cell_type": "code",
      "source": [
        "from google.colab import drive\n",
        "drive.mount('/content/gdrive')"
      ],
      "metadata": {
        "colab": {
          "base_uri": "https://localhost:8080/"
        },
        "id": "EleusOo_X24o",
        "outputId": "bf3ee754-d19c-44f9-973c-704e9b17c879"
      },
      "execution_count": 2,
      "outputs": [
        {
          "output_type": "stream",
          "name": "stdout",
          "text": [
            "Mounted at /content/gdrive\n"
          ]
        }
      ]
    },
    {
      "cell_type": "code",
      "source": [
        "%cd /content/gdrive/MyDrive/Colab\\ Notebooks/stats208"
      ],
      "metadata": {
        "colab": {
          "base_uri": "https://localhost:8080/"
        },
        "id": "1K5A_oyWYvNm",
        "outputId": "fa66f39b-1275-4103-8810-b095671f81cf"
      },
      "execution_count": 3,
      "outputs": [
        {
          "output_type": "stream",
          "name": "stdout",
          "text": [
            "/content/gdrive/MyDrive/Colab Notebooks/stats208\n"
          ]
        }
      ]
    },
    {
      "cell_type": "code",
      "source": [
        "!ls"
      ],
      "metadata": {
        "colab": {
          "base_uri": "https://localhost:8080/"
        },
        "id": "o_2b7c2TY_r2",
        "outputId": "1bed4fea-ff5c-435f-8294-2a33ae2e12c8"
      },
      "execution_count": null,
      "outputs": [
        {
          "output_type": "stream",
          "name": "stdout",
          "text": [
            "boston.csv  ozone.csv\n"
          ]
        }
      ]
    },
    {
      "cell_type": "markdown",
      "source": [
        "# Load Datasets"
      ],
      "metadata": {
        "id": "Z6GWFpOdaaAQ"
      }
    },
    {
      "cell_type": "code",
      "source": [
        "ozone = pd.read_csv(\"ozone.csv\").iloc[:, 1:]\n",
        "boston = pd.read_csv(\"boston.csv\").iloc[:, 1:]"
      ],
      "metadata": {
        "id": "5RPpHjffZOg7"
      },
      "execution_count": 45,
      "outputs": []
    },
    {
      "cell_type": "markdown",
      "source": [
        "## Ozone"
      ],
      "metadata": {
        "id": "X1daE3yeahmP"
      }
    },
    {
      "cell_type": "code",
      "source": [
        "ozone.head()"
      ],
      "metadata": {
        "colab": {
          "base_uri": "https://localhost:8080/",
          "height": 206
        },
        "id": "OYYYK0QiaISE",
        "outputId": "f53ad057-7382-4f6b-ebe6-e42bce0264ba"
      },
      "execution_count": 50,
      "outputs": [
        {
          "output_type": "execute_result",
          "data": {
            "text/plain": [
              "   Month  DayOfMonth  DayOfYear  MaxDailyOzone  PresHeight  WindSpeed  \\\n",
              "0      1           3          6              3        5710          4   \n",
              "1      1           4          7              5        5700          3   \n",
              "2      1           5          1              5        5760          3   \n",
              "3      1           6          2              6        5720          4   \n",
              "4      1           7          3              4        5790          6   \n",
              "\n",
              "   Humidity  Temp1  InvBaseHeight  PresGrad  InvBaseTemp  Visibility  \n",
              "0        28     40           2693       -25        47.66         250  \n",
              "1        37     45            590       -24        55.04         100  \n",
              "2        51     54           1450        25        57.02          60  \n",
              "3        69     35           1568        15        53.78          60  \n",
              "4        19     45           2631       -33        54.14         100  "
            ],
            "text/html": [
              "\n",
              "  <div id=\"df-03fb099d-e285-41da-8587-24a9a02fc1bf\">\n",
              "    <div class=\"colab-df-container\">\n",
              "      <div>\n",
              "<style scoped>\n",
              "    .dataframe tbody tr th:only-of-type {\n",
              "        vertical-align: middle;\n",
              "    }\n",
              "\n",
              "    .dataframe tbody tr th {\n",
              "        vertical-align: top;\n",
              "    }\n",
              "\n",
              "    .dataframe thead th {\n",
              "        text-align: right;\n",
              "    }\n",
              "</style>\n",
              "<table border=\"1\" class=\"dataframe\">\n",
              "  <thead>\n",
              "    <tr style=\"text-align: right;\">\n",
              "      <th></th>\n",
              "      <th>Month</th>\n",
              "      <th>DayOfMonth</th>\n",
              "      <th>DayOfYear</th>\n",
              "      <th>MaxDailyOzone</th>\n",
              "      <th>PresHeight</th>\n",
              "      <th>WindSpeed</th>\n",
              "      <th>Humidity</th>\n",
              "      <th>Temp1</th>\n",
              "      <th>InvBaseHeight</th>\n",
              "      <th>PresGrad</th>\n",
              "      <th>InvBaseTemp</th>\n",
              "      <th>Visibility</th>\n",
              "    </tr>\n",
              "  </thead>\n",
              "  <tbody>\n",
              "    <tr>\n",
              "      <th>0</th>\n",
              "      <td>1</td>\n",
              "      <td>3</td>\n",
              "      <td>6</td>\n",
              "      <td>3</td>\n",
              "      <td>5710</td>\n",
              "      <td>4</td>\n",
              "      <td>28</td>\n",
              "      <td>40</td>\n",
              "      <td>2693</td>\n",
              "      <td>-25</td>\n",
              "      <td>47.66</td>\n",
              "      <td>250</td>\n",
              "    </tr>\n",
              "    <tr>\n",
              "      <th>1</th>\n",
              "      <td>1</td>\n",
              "      <td>4</td>\n",
              "      <td>7</td>\n",
              "      <td>5</td>\n",
              "      <td>5700</td>\n",
              "      <td>3</td>\n",
              "      <td>37</td>\n",
              "      <td>45</td>\n",
              "      <td>590</td>\n",
              "      <td>-24</td>\n",
              "      <td>55.04</td>\n",
              "      <td>100</td>\n",
              "    </tr>\n",
              "    <tr>\n",
              "      <th>2</th>\n",
              "      <td>1</td>\n",
              "      <td>5</td>\n",
              "      <td>1</td>\n",
              "      <td>5</td>\n",
              "      <td>5760</td>\n",
              "      <td>3</td>\n",
              "      <td>51</td>\n",
              "      <td>54</td>\n",
              "      <td>1450</td>\n",
              "      <td>25</td>\n",
              "      <td>57.02</td>\n",
              "      <td>60</td>\n",
              "    </tr>\n",
              "    <tr>\n",
              "      <th>3</th>\n",
              "      <td>1</td>\n",
              "      <td>6</td>\n",
              "      <td>2</td>\n",
              "      <td>6</td>\n",
              "      <td>5720</td>\n",
              "      <td>4</td>\n",
              "      <td>69</td>\n",
              "      <td>35</td>\n",
              "      <td>1568</td>\n",
              "      <td>15</td>\n",
              "      <td>53.78</td>\n",
              "      <td>60</td>\n",
              "    </tr>\n",
              "    <tr>\n",
              "      <th>4</th>\n",
              "      <td>1</td>\n",
              "      <td>7</td>\n",
              "      <td>3</td>\n",
              "      <td>4</td>\n",
              "      <td>5790</td>\n",
              "      <td>6</td>\n",
              "      <td>19</td>\n",
              "      <td>45</td>\n",
              "      <td>2631</td>\n",
              "      <td>-33</td>\n",
              "      <td>54.14</td>\n",
              "      <td>100</td>\n",
              "    </tr>\n",
              "  </tbody>\n",
              "</table>\n",
              "</div>\n",
              "      <button class=\"colab-df-convert\" onclick=\"convertToInteractive('df-03fb099d-e285-41da-8587-24a9a02fc1bf')\"\n",
              "              title=\"Convert this dataframe to an interactive table.\"\n",
              "              style=\"display:none;\">\n",
              "        \n",
              "  <svg xmlns=\"http://www.w3.org/2000/svg\" height=\"24px\"viewBox=\"0 0 24 24\"\n",
              "       width=\"24px\">\n",
              "    <path d=\"M0 0h24v24H0V0z\" fill=\"none\"/>\n",
              "    <path d=\"M18.56 5.44l.94 2.06.94-2.06 2.06-.94-2.06-.94-.94-2.06-.94 2.06-2.06.94zm-11 1L8.5 8.5l.94-2.06 2.06-.94-2.06-.94L8.5 2.5l-.94 2.06-2.06.94zm10 10l.94 2.06.94-2.06 2.06-.94-2.06-.94-.94-2.06-.94 2.06-2.06.94z\"/><path d=\"M17.41 7.96l-1.37-1.37c-.4-.4-.92-.59-1.43-.59-.52 0-1.04.2-1.43.59L10.3 9.45l-7.72 7.72c-.78.78-.78 2.05 0 2.83L4 21.41c.39.39.9.59 1.41.59.51 0 1.02-.2 1.41-.59l7.78-7.78 2.81-2.81c.8-.78.8-2.07 0-2.86zM5.41 20L4 18.59l7.72-7.72 1.47 1.35L5.41 20z\"/>\n",
              "  </svg>\n",
              "      </button>\n",
              "      \n",
              "  <style>\n",
              "    .colab-df-container {\n",
              "      display:flex;\n",
              "      flex-wrap:wrap;\n",
              "      gap: 12px;\n",
              "    }\n",
              "\n",
              "    .colab-df-convert {\n",
              "      background-color: #E8F0FE;\n",
              "      border: none;\n",
              "      border-radius: 50%;\n",
              "      cursor: pointer;\n",
              "      display: none;\n",
              "      fill: #1967D2;\n",
              "      height: 32px;\n",
              "      padding: 0 0 0 0;\n",
              "      width: 32px;\n",
              "    }\n",
              "\n",
              "    .colab-df-convert:hover {\n",
              "      background-color: #E2EBFA;\n",
              "      box-shadow: 0px 1px 2px rgba(60, 64, 67, 0.3), 0px 1px 3px 1px rgba(60, 64, 67, 0.15);\n",
              "      fill: #174EA6;\n",
              "    }\n",
              "\n",
              "    [theme=dark] .colab-df-convert {\n",
              "      background-color: #3B4455;\n",
              "      fill: #D2E3FC;\n",
              "    }\n",
              "\n",
              "    [theme=dark] .colab-df-convert:hover {\n",
              "      background-color: #434B5C;\n",
              "      box-shadow: 0px 1px 3px 1px rgba(0, 0, 0, 0.15);\n",
              "      filter: drop-shadow(0px 1px 2px rgba(0, 0, 0, 0.3));\n",
              "      fill: #FFFFFF;\n",
              "    }\n",
              "  </style>\n",
              "\n",
              "      <script>\n",
              "        const buttonEl =\n",
              "          document.querySelector('#df-03fb099d-e285-41da-8587-24a9a02fc1bf button.colab-df-convert');\n",
              "        buttonEl.style.display =\n",
              "          google.colab.kernel.accessAllowed ? 'block' : 'none';\n",
              "\n",
              "        async function convertToInteractive(key) {\n",
              "          const element = document.querySelector('#df-03fb099d-e285-41da-8587-24a9a02fc1bf');\n",
              "          const dataTable =\n",
              "            await google.colab.kernel.invokeFunction('convertToInteractive',\n",
              "                                                     [key], {});\n",
              "          if (!dataTable) return;\n",
              "\n",
              "          const docLinkHtml = 'Like what you see? Visit the ' +\n",
              "            '<a target=\"_blank\" href=https://colab.research.google.com/notebooks/data_table.ipynb>data table notebook</a>'\n",
              "            + ' to learn more about interactive tables.';\n",
              "          element.innerHTML = '';\n",
              "          dataTable['output_type'] = 'display_data';\n",
              "          await google.colab.output.renderOutput(dataTable, element);\n",
              "          const docLink = document.createElement('div');\n",
              "          docLink.innerHTML = docLinkHtml;\n",
              "          element.appendChild(docLink);\n",
              "        }\n",
              "      </script>\n",
              "    </div>\n",
              "  </div>\n",
              "  "
            ]
          },
          "metadata": {},
          "execution_count": 50
        }
      ]
    },
    {
      "cell_type": "markdown",
      "source": [
        "## Boston Housing"
      ],
      "metadata": {
        "id": "7QjAfOtbajuj"
      }
    },
    {
      "cell_type": "code",
      "source": [
        "boston.head()"
      ],
      "metadata": {
        "colab": {
          "base_uri": "https://localhost:8080/",
          "height": 206
        },
        "id": "baNTj6cCaNC5",
        "outputId": "dd408201-5043-4601-86d0-6cdff882e2a8"
      },
      "execution_count": 51,
      "outputs": [
        {
          "output_type": "execute_result",
          "data": {
            "text/plain": [
              "      crim    zn  indus  chas    nox     rm   age     dis  rad  tax  ptratio  \\\n",
              "0  0.00632  18.0   2.31     0  0.538  6.575  65.2  4.0900    1  296     15.3   \n",
              "1  0.02731   0.0   7.07     0  0.469  6.421  78.9  4.9671    2  242     17.8   \n",
              "2  0.02729   0.0   7.07     0  0.469  7.185  61.1  4.9671    2  242     17.8   \n",
              "3  0.03237   0.0   2.18     0  0.458  6.998  45.8  6.0622    3  222     18.7   \n",
              "4  0.06905   0.0   2.18     0  0.458  7.147  54.2  6.0622    3  222     18.7   \n",
              "\n",
              "        b  lstat  medv  \n",
              "0  396.90   4.98  24.0  \n",
              "1  396.90   9.14  21.6  \n",
              "2  392.83   4.03  34.7  \n",
              "3  394.63   2.94  33.4  \n",
              "4  396.90   5.33  36.2  "
            ],
            "text/html": [
              "\n",
              "  <div id=\"df-c9d52f4b-cd4f-4efc-8ef7-c0b66fe739e2\">\n",
              "    <div class=\"colab-df-container\">\n",
              "      <div>\n",
              "<style scoped>\n",
              "    .dataframe tbody tr th:only-of-type {\n",
              "        vertical-align: middle;\n",
              "    }\n",
              "\n",
              "    .dataframe tbody tr th {\n",
              "        vertical-align: top;\n",
              "    }\n",
              "\n",
              "    .dataframe thead th {\n",
              "        text-align: right;\n",
              "    }\n",
              "</style>\n",
              "<table border=\"1\" class=\"dataframe\">\n",
              "  <thead>\n",
              "    <tr style=\"text-align: right;\">\n",
              "      <th></th>\n",
              "      <th>crim</th>\n",
              "      <th>zn</th>\n",
              "      <th>indus</th>\n",
              "      <th>chas</th>\n",
              "      <th>nox</th>\n",
              "      <th>rm</th>\n",
              "      <th>age</th>\n",
              "      <th>dis</th>\n",
              "      <th>rad</th>\n",
              "      <th>tax</th>\n",
              "      <th>ptratio</th>\n",
              "      <th>b</th>\n",
              "      <th>lstat</th>\n",
              "      <th>medv</th>\n",
              "    </tr>\n",
              "  </thead>\n",
              "  <tbody>\n",
              "    <tr>\n",
              "      <th>0</th>\n",
              "      <td>0.00632</td>\n",
              "      <td>18.0</td>\n",
              "      <td>2.31</td>\n",
              "      <td>0</td>\n",
              "      <td>0.538</td>\n",
              "      <td>6.575</td>\n",
              "      <td>65.2</td>\n",
              "      <td>4.0900</td>\n",
              "      <td>1</td>\n",
              "      <td>296</td>\n",
              "      <td>15.3</td>\n",
              "      <td>396.90</td>\n",
              "      <td>4.98</td>\n",
              "      <td>24.0</td>\n",
              "    </tr>\n",
              "    <tr>\n",
              "      <th>1</th>\n",
              "      <td>0.02731</td>\n",
              "      <td>0.0</td>\n",
              "      <td>7.07</td>\n",
              "      <td>0</td>\n",
              "      <td>0.469</td>\n",
              "      <td>6.421</td>\n",
              "      <td>78.9</td>\n",
              "      <td>4.9671</td>\n",
              "      <td>2</td>\n",
              "      <td>242</td>\n",
              "      <td>17.8</td>\n",
              "      <td>396.90</td>\n",
              "      <td>9.14</td>\n",
              "      <td>21.6</td>\n",
              "    </tr>\n",
              "    <tr>\n",
              "      <th>2</th>\n",
              "      <td>0.02729</td>\n",
              "      <td>0.0</td>\n",
              "      <td>7.07</td>\n",
              "      <td>0</td>\n",
              "      <td>0.469</td>\n",
              "      <td>7.185</td>\n",
              "      <td>61.1</td>\n",
              "      <td>4.9671</td>\n",
              "      <td>2</td>\n",
              "      <td>242</td>\n",
              "      <td>17.8</td>\n",
              "      <td>392.83</td>\n",
              "      <td>4.03</td>\n",
              "      <td>34.7</td>\n",
              "    </tr>\n",
              "    <tr>\n",
              "      <th>3</th>\n",
              "      <td>0.03237</td>\n",
              "      <td>0.0</td>\n",
              "      <td>2.18</td>\n",
              "      <td>0</td>\n",
              "      <td>0.458</td>\n",
              "      <td>6.998</td>\n",
              "      <td>45.8</td>\n",
              "      <td>6.0622</td>\n",
              "      <td>3</td>\n",
              "      <td>222</td>\n",
              "      <td>18.7</td>\n",
              "      <td>394.63</td>\n",
              "      <td>2.94</td>\n",
              "      <td>33.4</td>\n",
              "    </tr>\n",
              "    <tr>\n",
              "      <th>4</th>\n",
              "      <td>0.06905</td>\n",
              "      <td>0.0</td>\n",
              "      <td>2.18</td>\n",
              "      <td>0</td>\n",
              "      <td>0.458</td>\n",
              "      <td>7.147</td>\n",
              "      <td>54.2</td>\n",
              "      <td>6.0622</td>\n",
              "      <td>3</td>\n",
              "      <td>222</td>\n",
              "      <td>18.7</td>\n",
              "      <td>396.90</td>\n",
              "      <td>5.33</td>\n",
              "      <td>36.2</td>\n",
              "    </tr>\n",
              "  </tbody>\n",
              "</table>\n",
              "</div>\n",
              "      <button class=\"colab-df-convert\" onclick=\"convertToInteractive('df-c9d52f4b-cd4f-4efc-8ef7-c0b66fe739e2')\"\n",
              "              title=\"Convert this dataframe to an interactive table.\"\n",
              "              style=\"display:none;\">\n",
              "        \n",
              "  <svg xmlns=\"http://www.w3.org/2000/svg\" height=\"24px\"viewBox=\"0 0 24 24\"\n",
              "       width=\"24px\">\n",
              "    <path d=\"M0 0h24v24H0V0z\" fill=\"none\"/>\n",
              "    <path d=\"M18.56 5.44l.94 2.06.94-2.06 2.06-.94-2.06-.94-.94-2.06-.94 2.06-2.06.94zm-11 1L8.5 8.5l.94-2.06 2.06-.94-2.06-.94L8.5 2.5l-.94 2.06-2.06.94zm10 10l.94 2.06.94-2.06 2.06-.94-2.06-.94-.94-2.06-.94 2.06-2.06.94z\"/><path d=\"M17.41 7.96l-1.37-1.37c-.4-.4-.92-.59-1.43-.59-.52 0-1.04.2-1.43.59L10.3 9.45l-7.72 7.72c-.78.78-.78 2.05 0 2.83L4 21.41c.39.39.9.59 1.41.59.51 0 1.02-.2 1.41-.59l7.78-7.78 2.81-2.81c.8-.78.8-2.07 0-2.86zM5.41 20L4 18.59l7.72-7.72 1.47 1.35L5.41 20z\"/>\n",
              "  </svg>\n",
              "      </button>\n",
              "      \n",
              "  <style>\n",
              "    .colab-df-container {\n",
              "      display:flex;\n",
              "      flex-wrap:wrap;\n",
              "      gap: 12px;\n",
              "    }\n",
              "\n",
              "    .colab-df-convert {\n",
              "      background-color: #E8F0FE;\n",
              "      border: none;\n",
              "      border-radius: 50%;\n",
              "      cursor: pointer;\n",
              "      display: none;\n",
              "      fill: #1967D2;\n",
              "      height: 32px;\n",
              "      padding: 0 0 0 0;\n",
              "      width: 32px;\n",
              "    }\n",
              "\n",
              "    .colab-df-convert:hover {\n",
              "      background-color: #E2EBFA;\n",
              "      box-shadow: 0px 1px 2px rgba(60, 64, 67, 0.3), 0px 1px 3px 1px rgba(60, 64, 67, 0.15);\n",
              "      fill: #174EA6;\n",
              "    }\n",
              "\n",
              "    [theme=dark] .colab-df-convert {\n",
              "      background-color: #3B4455;\n",
              "      fill: #D2E3FC;\n",
              "    }\n",
              "\n",
              "    [theme=dark] .colab-df-convert:hover {\n",
              "      background-color: #434B5C;\n",
              "      box-shadow: 0px 1px 3px 1px rgba(0, 0, 0, 0.15);\n",
              "      filter: drop-shadow(0px 1px 2px rgba(0, 0, 0, 0.3));\n",
              "      fill: #FFFFFF;\n",
              "    }\n",
              "  </style>\n",
              "\n",
              "      <script>\n",
              "        const buttonEl =\n",
              "          document.querySelector('#df-c9d52f4b-cd4f-4efc-8ef7-c0b66fe739e2 button.colab-df-convert');\n",
              "        buttonEl.style.display =\n",
              "          google.colab.kernel.accessAllowed ? 'block' : 'none';\n",
              "\n",
              "        async function convertToInteractive(key) {\n",
              "          const element = document.querySelector('#df-c9d52f4b-cd4f-4efc-8ef7-c0b66fe739e2');\n",
              "          const dataTable =\n",
              "            await google.colab.kernel.invokeFunction('convertToInteractive',\n",
              "                                                     [key], {});\n",
              "          if (!dataTable) return;\n",
              "\n",
              "          const docLinkHtml = 'Like what you see? Visit the ' +\n",
              "            '<a target=\"_blank\" href=https://colab.research.google.com/notebooks/data_table.ipynb>data table notebook</a>'\n",
              "            + ' to learn more about interactive tables.';\n",
              "          element.innerHTML = '';\n",
              "          dataTable['output_type'] = 'display_data';\n",
              "          await google.colab.output.renderOutput(dataTable, element);\n",
              "          const docLink = document.createElement('div');\n",
              "          docLink.innerHTML = docLinkHtml;\n",
              "          element.appendChild(docLink);\n",
              "        }\n",
              "      </script>\n",
              "    </div>\n",
              "  </div>\n",
              "  "
            ]
          },
          "metadata": {},
          "execution_count": 51
        }
      ]
    },
    {
      "cell_type": "markdown",
      "source": [
        "# Simulate Datasets"
      ],
      "metadata": {
        "id": "Hj0qn3CZaceG"
      }
    },
    {
      "cell_type": "markdown",
      "source": [
        "## Fried datasets"
      ],
      "metadata": {
        "id": "MFIyKoANalXn"
      }
    },
    {
      "cell_type": "code",
      "source": [
        "def fried1(n, state, p = 10):\n",
        "  np.random.seed(state)\n",
        "  X = np.random.uniform(0, 1, size = (n, p))\n",
        "  eps = np.random.normal(0, 1, n)\n",
        "  y = 10*np.sin(np.pi*X[:, 0]*X[:, 1]) + 20*(X[:, 2] - 0.5)**2 + 10*X[:, 3] + 5*X[:, 4] + eps\n",
        "\n",
        "  return X, y"
      ],
      "metadata": {
        "id": "M-eXHwaVafiQ"
      },
      "execution_count": 31,
      "outputs": []
    },
    {
      "cell_type": "code",
      "source": [
        "def fried2(n, state, p = 4):\n",
        "  np.random.seed(state)\n",
        "  X = np.zeros((n, p))\n",
        "  X[:, 0] = np.random.uniform(0, 100, n) \n",
        "  X[:, 1] = np.random.uniform(40 * np.pi, 560 * np.pi, n)\n",
        "  X[:, 2] = np.random.uniform(0, 1, n)\n",
        "  X[:, 3] = np.random.uniform(1, 11, n)\n",
        "\n",
        "  y = (X[:, 0]**2 + (X[:, 1]*X[:, 2] - (1/(X[:, 1]*X[:, 3])))**2)**0.5\n",
        "  noise_sig = np.var(y)/3\n",
        "\n",
        "  y += np.random.normal(0, noise_sig**0.5, n)\n",
        "\n",
        "  return X, y"
      ],
      "metadata": {
        "id": "cIjDFPkscUQg"
      },
      "execution_count": 34,
      "outputs": []
    },
    {
      "cell_type": "code",
      "source": [
        "def fried3(n, state, p = 4):\n",
        "  np.random.seed(state)\n",
        "  X = np.zeros((n, p))\n",
        "  X[:, 0] = np.random.uniform(0, 100, n) \n",
        "  X[:, 1] = np.random.uniform(20, 280, n) * 2 * np.pi\n",
        "  X[:, 2] = np.random.uniform(0, 1, n)\n",
        "  X[:, 3] = np.random.uniform(1, 11, n)\n",
        "\n",
        "  y = np.arctan((X[:, 1]*X[:, 2] - (1/(X[:, 1]*X[:, 3])))/X[:, 0])\n",
        "  noise_sig = np.var(y)/3\n",
        "\n",
        "  y += np.random.normal(0, noise_sig**0.5, n)\n",
        "\n",
        "  return X, y"
      ],
      "metadata": {
        "id": "giinzwBUeKrU"
      },
      "execution_count": 35,
      "outputs": []
    },
    {
      "cell_type": "markdown",
      "source": [
        "# Regression Tree"
      ],
      "metadata": {
        "id": "Wwu7a0MnfFTR"
      }
    },
    {
      "cell_type": "code",
      "source": [
        "params = {\"criterion\": [\"squared_error\", \"friedman_mse\"], \n",
        "          \"splitter\": [\"best\", \"random\"],\n",
        "          \"max_depth\": [1, 3, 5, 7, 9, 11, 15]}"
      ],
      "metadata": {
        "id": "7N88aLRv4l-9"
      },
      "execution_count": 12,
      "outputs": []
    },
    {
      "cell_type": "code",
      "source": [
        "def reg_tree(L_x, T_x, L_y, T_y, cv_k = 10):\n",
        "  #L_x, T_x, L_y, T_y = train_test_split(X, Y, test_size = 0.05)\n",
        "\n",
        "  dtr = tree.DecisionTreeRegressor()\n",
        "  opt_mod = RandomizedSearchCV(dtr, param_distributions = params, \n",
        "                               scoring = \"neg_mean_squared_error\", \n",
        "                               cv = cv_k, verbose = 0)\n",
        "  opt_mod.fit(L_x, L_y)\n",
        "\n",
        "  T_y_pred = opt_mod.predict(T_x)\n",
        "\n",
        "  mse = mean_squared_error(T_y, T_y_pred)\n",
        "\n",
        "  return mse"
      ],
      "metadata": {
        "id": "H2uLJH88fDsw"
      },
      "execution_count": 46,
      "outputs": []
    },
    {
      "cell_type": "markdown",
      "source": [
        "# Bootstrap Regression Tree"
      ],
      "metadata": {
        "id": "wxhjbDcCkjvK"
      }
    },
    {
      "cell_type": "code",
      "source": [
        "def reg_tree_boot(L_x, T_x, L_y, T_y, B, dat_type, cv_k = 10):\n",
        "    \n",
        "  #L_x, T_x, L_y, T_y = train_test_split(X, Y, test_size = 0.05, random_state = state)\n",
        "\n",
        "  n = len(L_x)\n",
        "  preds = np.zeros((len(T_x), B))\n",
        "\n",
        "\n",
        "  for i in range(B):\n",
        "    np.random.seed(i)\n",
        "    idx = np.random.choice(np.arange(n), n, replace = True)\n",
        "    if dat_type == \"sim\":\n",
        "      Lb_x = L_x[idx, :]\n",
        "      Lb_y = L_y[idx]\n",
        "    else: \n",
        "      Lb_x = L_x.iloc[idx, :]\n",
        "      Lb_y = L_y.iloc[idx]\n",
        "\n",
        "    dtr = tree.DecisionTreeRegressor()\n",
        "    opt_mod = RandomizedSearchCV(dtr, param_distributions = params, \n",
        "                               scoring = \"neg_mean_squared_error\", \n",
        "                               cv = cv_k, verbose = 0)\n",
        "    opt_mod.fit(Lb_x, Lb_y)\n",
        "    preds[:, i] = opt_mod.predict(T_x)\n",
        "\n",
        "  T_y_pred = np.mean(preds, axis = 1)\n",
        "  mse = mean_squared_error(T_y, T_y_pred)\n",
        "\n",
        "  return mse"
      ],
      "metadata": {
        "id": "pnQiUJoXkogg"
      },
      "execution_count": 68,
      "outputs": []
    },
    {
      "cell_type": "markdown",
      "source": [
        "# Experiments"
      ],
      "metadata": {
        "id": "0va9bH_UsnZu"
      }
    },
    {
      "cell_type": "markdown",
      "source": [
        "## Boston Housing Results "
      ],
      "metadata": {
        "id": "jU1nS1Z7sy40"
      }
    },
    {
      "cell_type": "markdown",
      "source": [
        "Single tree"
      ],
      "metadata": {
        "id": "ZYUwietLs8PV"
      }
    },
    {
      "cell_type": "code",
      "source": [
        "mse_bos = []\n",
        "\n",
        "for i in range(100):\n",
        "  T = boston.sample(n = 25, random_state = i)\n",
        "  L = boston[~boston.index.isin(T.index)]\n",
        "\n",
        "  L_x = L.loc[:, L.columns != \"medv\"]\n",
        "  L_y = L['medv']\n",
        "\n",
        "  T_x = T.loc[:, T.columns != \"medv\"]\n",
        "  T_y = T[\"medv\"]\n",
        "\n",
        "  mse_bos.append(reg_tree(L_x, T_x, L_y, T_y))\n",
        "\n",
        "e_s = np.mean(mse_bos)\n",
        "print(\"avg E_S:\", e_s)"
      ],
      "metadata": {
        "colab": {
          "base_uri": "https://localhost:8080/"
        },
        "id": "gDyLi99Csmfz",
        "outputId": "3a8785aa-fbb0-40c5-9152-20ba1dd1b24a"
      },
      "execution_count": 65,
      "outputs": [
        {
          "output_type": "stream",
          "name": "stdout",
          "text": [
            "avg E_S: 25.33985917690343\n"
          ]
        }
      ]
    },
    {
      "cell_type": "markdown",
      "source": [
        "Bagged Trees"
      ],
      "metadata": {
        "id": "IPcqbu7gurGd"
      }
    },
    {
      "cell_type": "code",
      "source": [
        "mse_bos_boot = []\n",
        "\n",
        "for i in range(100):\n",
        "  T = boston.sample(n = 25, random_state = i)\n",
        "  L = boston[~boston.index.isin(T.index)]\n",
        "\n",
        "  L_x = L.loc[:, L.columns != \"medv\"]\n",
        "  L_y = L['medv']\n",
        "\n",
        "  T_x = T.loc[:, T.columns != \"medv\"]\n",
        "  T_y = T[\"medv\"]\n",
        "  mse_bos_boot.append(reg_tree_boot(L_x, T_x, L_y, T_y, 25, \"real\"))\n",
        "\n",
        "e_b = np.mean(mse_bos_boot)\n",
        "print(\"avg E_B:\", e_b)"
      ],
      "metadata": {
        "colab": {
          "base_uri": "https://localhost:8080/"
        },
        "id": "g1X2o8P4upOw",
        "outputId": "8c2c31cf-71a7-4da3-8457-e2aab03bb914"
      },
      "execution_count": 69,
      "outputs": [
        {
          "output_type": "stream",
          "name": "stdout",
          "text": [
            "avg E_B: 11.59995195102736\n"
          ]
        }
      ]
    },
    {
      "cell_type": "code",
      "source": [
        "print(\"Decrease {:0.0f}%:\".format(np.round((e_s - e_b)/e_s * 100)))"
      ],
      "metadata": {
        "colab": {
          "base_uri": "https://localhost:8080/"
        },
        "id": "xfNLE3xKSCwh",
        "outputId": "151b6bdc-09e0-4fdf-d709-e13f7b6630ca"
      },
      "execution_count": 70,
      "outputs": [
        {
          "output_type": "stream",
          "name": "stdout",
          "text": [
            "Decrease 54%:\n"
          ]
        }
      ]
    },
    {
      "cell_type": "markdown",
      "source": [
        "## Ozone Results"
      ],
      "metadata": {
        "id": "7Tfg5wrL2yyA"
      }
    },
    {
      "cell_type": "markdown",
      "source": [
        "Single Tree"
      ],
      "metadata": {
        "id": "4ytPzGTd24F3"
      }
    },
    {
      "cell_type": "code",
      "source": [
        "mse_oz = []\n",
        "\n",
        "for i in range(100):\n",
        "  T = ozone.sample(n = 15, random_state = i)\n",
        "  L = ozone[~ozone.index.isin(T.index)]\n",
        "\n",
        "  L_x = L.loc[:, L.columns != \"MaxDailyOzone\"]\n",
        "  L_y = L[\"MaxDailyOzone\"]\n",
        "\n",
        "  T_x = T.loc[:, T.columns != \"MaxDailyOzone\"]\n",
        "  T_y = T[\"MaxDailyOzone\"]\n",
        "\n",
        "  mse_oz.append(reg_tree(L_x, T_x, L_y, T_y))\n",
        "\n",
        "e_s = np.mean(mse_oz)\n",
        "print(\"avg E_S:\", e_s)"
      ],
      "metadata": {
        "colab": {
          "base_uri": "https://localhost:8080/"
        },
        "id": "MhKYvJZe26U2",
        "outputId": "66993440-504f-4eff-ee39-00d5e39af97a"
      },
      "execution_count": 72,
      "outputs": [
        {
          "output_type": "stream",
          "name": "stdout",
          "text": [
            "avg E_S: 26.620265539655794\n"
          ]
        }
      ]
    },
    {
      "cell_type": "markdown",
      "source": [
        "Bagged Trees"
      ],
      "metadata": {
        "id": "LYuq2kYD3R8o"
      }
    },
    {
      "cell_type": "code",
      "source": [
        "mse_oz_boot = []\n",
        "\n",
        "for i in range(100):\n",
        "  T = ozone.sample(n = 15, random_state = i)\n",
        "  L = ozone[~ozone.index.isin(T.index)]\n",
        "\n",
        "  L_x = L.loc[:, L.columns != \"MaxDailyOzone\"]\n",
        "  L_y = L[\"MaxDailyOzone\"]\n",
        "\n",
        "  T_x = T.loc[:, T.columns != \"MaxDailyOzone\"]\n",
        "  T_y = T[\"MaxDailyOzone\"]\n",
        "  mse_oz_boot.append(reg_tree_boot(L_x, T_x, L_y, T_y, 25, \"real\"))\n",
        "\n",
        "e_b = np.mean(mse_oz_boot)\n",
        "print(\"avg E_B:\", e_b)"
      ],
      "metadata": {
        "colab": {
          "base_uri": "https://localhost:8080/"
        },
        "id": "AGpqMN-F3RfY",
        "outputId": "6651dfa6-8330-4a38-9efc-59c03ded53b6"
      },
      "execution_count": 73,
      "outputs": [
        {
          "output_type": "stream",
          "name": "stdout",
          "text": [
            "avg E_B: 17.51937238600066\n"
          ]
        }
      ]
    },
    {
      "cell_type": "code",
      "source": [
        "print(\"Decrease {:0.0f}%:\".format(np.round((e_s - e_b)/e_s * 100)))"
      ],
      "metadata": {
        "colab": {
          "base_uri": "https://localhost:8080/"
        },
        "id": "ENxEBlzWch87",
        "outputId": "a614fc9d-7ca4-4d98-f3bf-6efd636be0a6"
      },
      "execution_count": 74,
      "outputs": [
        {
          "output_type": "stream",
          "name": "stdout",
          "text": [
            "Decrease 34%:\n"
          ]
        }
      ]
    },
    {
      "cell_type": "markdown",
      "source": [
        "## Friedman 1"
      ],
      "metadata": {
        "id": "5NYK6Av63zQz"
      }
    },
    {
      "cell_type": "markdown",
      "source": [
        "Single Tree"
      ],
      "metadata": {
        "id": "mBL9hShn33Bu"
      }
    },
    {
      "cell_type": "code",
      "source": [
        "mse_f1 = []\n",
        "\n",
        "for i in range(100):\n",
        "  L_x1, L_y1 = fried1(200, i)\n",
        "  T_x1, T_y1 = fried1(1000, i)\n",
        "  mse_f1.append(reg_tree(L_x1, T_x1, L_y1, T_y1))\n",
        "\n",
        "e_s = np.mean(mse_f1)\n",
        "print(\"avg E_S:\", e_s)"
      ],
      "metadata": {
        "colab": {
          "base_uri": "https://localhost:8080/"
        },
        "id": "hLejbgYF31uM",
        "outputId": "197c6e4e-aa95-4196-af54-37016481f84c"
      },
      "execution_count": 53,
      "outputs": [
        {
          "output_type": "stream",
          "name": "stdout",
          "text": [
            "avg E_S: 11.36563792759656\n"
          ]
        }
      ]
    },
    {
      "cell_type": "markdown",
      "source": [
        "Bagged Trees"
      ],
      "metadata": {
        "id": "vgMMRtMp5wbn"
      }
    },
    {
      "cell_type": "code",
      "source": [
        "mse_f1_boot = []\n",
        "\n",
        "for i in range(100):\n",
        "  L_x1, L_y1 = fried1(200, i)\n",
        "  T_x1, T_y1 = fried1(1000, i)\n",
        "  mse_f1_boot.append(reg_tree_boot(L_x1, T_x1, L_y1, T_y1, 25, \"sim\"))\n",
        "\n",
        "e_b = np.mean(mse_f1_boot)\n",
        "print(\"avg E_B:\", e_b)"
      ],
      "metadata": {
        "colab": {
          "base_uri": "https://localhost:8080/"
        },
        "id": "cQ6wAK483ywm",
        "outputId": "7ec8d30e-e69a-4fdb-f482-62a99f2ef64e"
      },
      "execution_count": 75,
      "outputs": [
        {
          "output_type": "stream",
          "name": "stdout",
          "text": [
            "avg E_B: 5.661551522700161\n"
          ]
        }
      ]
    },
    {
      "cell_type": "code",
      "source": [
        "print(\"Decrease {:0.0f}%:\".format(np.round((e_s - e_b)/e_s * 100)))"
      ],
      "metadata": {
        "colab": {
          "base_uri": "https://localhost:8080/"
        },
        "id": "gy49SD-C_6E0",
        "outputId": "480b2d4a-2ae6-4a10-f774-813eb8b95736"
      },
      "execution_count": 76,
      "outputs": [
        {
          "output_type": "stream",
          "name": "stdout",
          "text": [
            "Decrease 79%:\n"
          ]
        }
      ]
    },
    {
      "cell_type": "markdown",
      "source": [
        "## Friedman 2"
      ],
      "metadata": {
        "id": "7kt6wcGI6Rf3"
      }
    },
    {
      "cell_type": "markdown",
      "source": [
        "Single Tree"
      ],
      "metadata": {
        "id": "dtDUkaXa6Ecu"
      }
    },
    {
      "cell_type": "code",
      "source": [
        "mse_f2 = []\n",
        "\n",
        "for i in range(100):\n",
        "  L_x2, L_y2 = fried2(200, i)\n",
        "  T_x2, T_y2 = fried2(1000, i)\n",
        "  mse_f2.append(reg_tree(L_x2, T_x2, L_y2, T_y2))\n",
        "\n",
        "print(\"avg E_S:\", np.mean(mse_f2))"
      ],
      "metadata": {
        "colab": {
          "base_uri": "https://localhost:8080/"
        },
        "id": "dsB-0Y3C6Fb7",
        "outputId": "6787af08-e96e-45dd-e291-0daf1dc4edea"
      },
      "execution_count": 79,
      "outputs": [
        {
          "output_type": "stream",
          "name": "stdout",
          "text": [
            "avg E_S: 79924.82706225722\n"
          ]
        }
      ]
    },
    {
      "cell_type": "markdown",
      "source": [
        "Bagged Trees"
      ],
      "metadata": {
        "id": "OQ3M20pO6SdM"
      }
    },
    {
      "cell_type": "code",
      "source": [
        "mse_f2_boot = []\n",
        "\n",
        "for i in range(100):\n",
        "  L_x2, L_y2 = fried2(200, i)\n",
        "  T_x2, T_y2 = fried2(1000, i)\n",
        "  mse_f2_boot.append(reg_tree_boot(L_x2, T_x2, L_y2, T_y2, 25, \"sim\"))\n",
        "\n",
        "e_b = np.mean(mse_f2_boot)\n",
        "print(\"avg E_B:\", e_b)"
      ],
      "metadata": {
        "colab": {
          "base_uri": "https://localhost:8080/"
        },
        "id": "LtObIY5N6k_A",
        "outputId": "3b5fa367-49b4-460f-e4ec-51928c30d81c"
      },
      "execution_count": 77,
      "outputs": [
        {
          "output_type": "stream",
          "name": "stdout",
          "text": [
            "avg E_B: 58746.99928340459\n"
          ]
        }
      ]
    },
    {
      "cell_type": "markdown",
      "source": [
        "## Friedman3"
      ],
      "metadata": {
        "id": "8KgJdFTG69Fg"
      }
    },
    {
      "cell_type": "markdown",
      "source": [
        "Single Tree"
      ],
      "metadata": {
        "id": "qh8pRgdd7EPc"
      }
    },
    {
      "cell_type": "code",
      "source": [
        "mse_f3 = []\n",
        "\n",
        "for i in range(100):\n",
        "  L_x3, L_y3 = fried3(200, i)\n",
        "  T_x3, T_y3 = fried3(1000, i)\n",
        "  mse_f3.append(reg_tree(L_x3, T_x3, L_y3, T_y3))\n",
        "\n",
        "print(\"avg E_S:\", np.mean(mse_f3))"
      ],
      "metadata": {
        "colab": {
          "base_uri": "https://localhost:8080/"
        },
        "id": "1MV4x7c_7BVz",
        "outputId": "cbeab9b7-7e03-4677-9373-b7ac26deaeda"
      },
      "execution_count": 60,
      "outputs": [
        {
          "output_type": "stream",
          "name": "stdout",
          "text": [
            "avg E_S: 0.07837688235268922\n"
          ]
        }
      ]
    },
    {
      "cell_type": "code",
      "source": [
        "mse_f3_boot = []\n",
        "\n",
        "for i in range(100):\n",
        "  L_x3, L_y3 = fried3(200, i)\n",
        "  T_x3, T_y3 = fried3(1000, i)\n",
        "  mse_f3_boot.append(reg_tree_boot(L_x3, T_x3, L_y3, T_y3, 25, \"sim\"))\n",
        "\n",
        "\n",
        "print(\"avg E_B:\", np.mean(mse_f3_boot))"
      ],
      "metadata": {
        "colab": {
          "base_uri": "https://localhost:8080/"
        },
        "id": "daTOqwv168KG",
        "outputId": "124158ea-8610-4a44-bd72-648f94e5f245"
      },
      "execution_count": 78,
      "outputs": [
        {
          "output_type": "stream",
          "name": "stdout",
          "text": [
            "avg E_B: 0.04958941133657554\n"
          ]
        }
      ]
    }
  ]
}